{
  "nbformat": 4,
  "nbformat_minor": 0,
  "metadata": {
    "colab": {
      "provenance": [],
      "include_colab_link": true
    },
    "kernelspec": {
      "name": "python3",
      "display_name": "Python 3"
    },
    "language_info": {
      "name": "python"
    }
  },
  "cells": [
    {
      "cell_type": "markdown",
      "metadata": {
        "id": "view-in-github",
        "colab_type": "text"
      },
      "source": [
        "<a href=\"https://colab.research.google.com/github/divyeshdk42/adventue-work/blob/main/File_Handling.ipynb\" target=\"_parent\"><img src=\"https://colab.research.google.com/assets/colab-badge.svg\" alt=\"Open In Colab\"/></a>"
      ]
    },
    {
      "cell_type": "markdown",
      "source": [
        "\n",
        "\n",
        "\n",
        "\n",
        "**Name of the text file: aboutPython.txt**\n",
        "\n",
        "Content:\n",
        "Python is an interpreted, object-oriented, high-level programming language with dynamic semantics.\n",
        "It's high-level built in data structures, combined with dynamic typing and dynamic binding, make it very attractive for Rapid Application Development, as well as for use as a scripting or glue language to connect existing components together.\n",
        "Python's simple, easy to learn syntax emphasizes readability and therefore reduces the cost of program maintenance.\n",
        "Python supports modules and packages, which encourages program modularity and code reuse.\n",
        "The Python interpreter and the extensive standard library are available in source or binary form without charge for all major platforms, and can be freely distributed.\n",
        "\n",
        "\n",
        "**Hint: **\n",
        "\n",
        "Create a text file aboutPython.txt\n",
        "Copy the given content in that file\n",
        "Using python read the content of the file.\n",
        "Use the concept of file handling.\n",
        ".\n",
        "\n",
        "Answer\n"
      ],
      "metadata": {
        "id": "QlXWo7OdgPnc"
      }
    },
    {
      "cell_type": "code",
      "execution_count": null,
      "metadata": {
        "colab": {
          "base_uri": "https://localhost:8080/"
        },
        "id": "RhcvyV2uf5yp",
        "outputId": "05ccf290-eca2-477c-ea79-21ae3bcf20a9"
      },
      "outputs": [
        {
          "output_type": "stream",
          "name": "stdout",
          "text": [
            "Python is an interpreted, object-oriented, high-level programming language with dynamic semantics. \n",
            "\n",
            "It's high-level built in data structures, combined with dynamic typing and dynamic binding, make it very attractive for Rapid Application Development, as well as for use as a scripting or glue language to connect existing components together. \n",
            "\n",
            "Python's simple, easy to learn syntax emphasizes readability and therefore reduces the cost of program maintenance. \n",
            "\n",
            "Python supports modules and packages, which encourages program modularity and code reuse. \n",
            "\n",
            "The Python interpreter and the extensive standard library are available in source or binary form without charge for all major platforms, and can be freely distributed.\n"
          ]
        }
      ],
      "source": [
        "# To read content of a given text file\n",
        "# Opening file with python\n",
        "\n",
        "file = open('/content/aboutPython.txt' , \"r\")\n",
        "\n",
        "# Reading content of the file\n",
        "fileContent = file.readlines()\n",
        "\n",
        "# Printing the content\n",
        "for i in fileContent :\n",
        "    print(i)\n",
        "\n",
        "# Closing file\n",
        "file.close()\n"
      ]
    },
    {
      "cell_type": "markdown",
      "source": [
        "Himanshi has a text file and she wants to check whether that file contains any numerical value. So to help Himanshi write a python program that can check whether the text file includes any numerical value or not. As text files contain so many lines, so print the line number that has numerical values.\n",
        "\n",
        "**Answer**"
      ],
      "metadata": {
        "id": "Pn79tmiOl6pN"
      }
    },
    {
      "cell_type": "code",
      "source": [
        "# To read content of a given text file\n",
        "# Opening file with python\n",
        "file = open(\"/content/aboutPython.txt\" , \"r\")\n",
        "\n",
        "# Reading content of the file\n",
        "fileContent = file.read()\n",
        "\n",
        "# Checking for numerical value\n",
        "flag = 0\n",
        "lineNumber = 1\n",
        "\n",
        "for i in fileContent :\n",
        "    if i.isnumeric():\n",
        "        flag = 1\n",
        "        break\n",
        "    if i == \"\\n\":\n",
        "        lineNumber += 1\n",
        "\n",
        "print()\n",
        "\n",
        "if flag == 1 :\n",
        "    print(\"Yes numerical value is present\")\n",
        "    print(\"On line :\" , lineNumber)\n",
        "\n",
        "else :\n",
        "    print(\"No numerical value exist in the program\")\n",
        "\n",
        "# Closing file\n",
        "file.close()\n"
      ],
      "metadata": {
        "colab": {
          "base_uri": "https://localhost:8080/"
        },
        "id": "B5SI0UXRl2oj",
        "outputId": "cac0124a-a630-42ed-e10b-f3cc26473337"
      },
      "execution_count": null,
      "outputs": [
        {
          "output_type": "stream",
          "name": "stdout",
          "text": [
            "\n",
            "Yes numerical value is present\n",
            "On line : 4\n"
          ]
        }
      ]
    },
    {
      "cell_type": "markdown",
      "source": [
        "'''Shubham wants to create a car racing game. But he is not aware of object-oriented programming. Using the concept of OOP, show him how we can create a class of the car. With parameters(brand, color, weight, height, and length) also add methods for start, stop, increase speed, decrease speed, turn on headlights, and turn off headlights. Also, create different objects(cars) using the class car.\n",
        "Answer'''\n",
        "\n"
      ],
      "metadata": {
        "id": "WYi5DXKutYWi"
      }
    },
    {
      "cell_type": "code",
      "source": [
        "# Creating the class for the car\n",
        "class Car:\n",
        "    def __init__(self, brand, color, weight, height, length):\n",
        "        self.brand = brand\n",
        "        self.color = color\n",
        "        self.weight = weight\n",
        "        self.height = height\n",
        "        self.length = length\n",
        "\n",
        "        self.engine = \"OFF\"\n",
        "        self.headLights = \"OFF\"\n",
        "\n",
        "        self.wheels = 4 # for all cars | wheels = 4\n",
        "\n",
        "    def start(self):\n",
        "        self.engine = \"ON\"\n",
        "        print(\"Starting Car\")\n",
        "\n",
        "    def stop(self):\n",
        "        self.engine = \"OFF\"\n",
        "        print(\"Stopping car\")\n",
        "\n",
        "    def increase_speed(self):\n",
        "        print(\"Increasing speed\")\n",
        "\n",
        "    def apply_break(self):\n",
        "        print(\"Applying break\")\n",
        "\n",
        "    def onHeadLights(self):\n",
        "        self.headLights = \"ON\"\n",
        "        print(\"Turning on headlights...\")\n",
        "\n",
        "    def offHeadLights(self):\n",
        "        self.headLights = \"OFF\"\n",
        "        print(\"Turning off headlights\")\n",
        "\n",
        "# Creating car - bmw\n",
        "bmw = Car(\"BMW\" , \"black\" , 1020 , 1.4 , 5.2)\n",
        "\n",
        "# Printing information about the car\n",
        "print(\"Information about car\")\n",
        "print()\n",
        "print(\"Brand :\", bmw.brand)\n",
        "print(\"Color :\", bmw.color)\n",
        "print(\"Weight :\", bmw.weight)\n",
        "print(\"Height :\", bmw.height)\n",
        "print(\"Length :\", bmw.length)\n",
        "print()\n",
        "\n",
        "# Checking whether the car is working properly or not :D\n",
        "print(\"Checking engine..\")\n",
        "print()\n",
        "print(bmw.engine)\n",
        "bmw.start()\n",
        "print(bmw.engine)\n",
        "bmw.stop()\n",
        "print(bmw.engine)\n",
        "\n",
        "print()\n",
        "print(\"Checking headlights..\")\n",
        "print()\n",
        "print(bmw.headLights)\n",
        "bmw.onHeadLights()\n",
        "print(bmw.headLights)\n",
        "bmw.offHeadLights()\n",
        "print(bmw.headLights)"
      ],
      "metadata": {
        "id": "HNxNybUKtc8o"
      },
      "execution_count": null,
      "outputs": []
    },
    {
      "cell_type": "markdown",
      "source": [
        "Nidhi just learned object-oriented programming, now she thinks that she can create data structures like lists, tuples, sets, and dictionaries. But she has no idea how to create a constructor for this problem. To explain this, create a class book that can store values(consider each element as one page of the class book ) like a list but it should have a method only to add new elements and not remove them. Include show method as well in the program to print all the pages ( elements ) of the book.\n",
        "Answer'''\n",
        "\n"
      ],
      "metadata": {
        "id": "XlhnFWoOzndY"
      }
    },
    {
      "cell_type": "code",
      "source": [
        "# Creating class Book\n",
        "class Book:\n",
        "    def __init__(self):\n",
        "        self.pages = []\n",
        "\n",
        "    def add(self , page):\n",
        "        self.pages.append(page)\n",
        "\n",
        "    def show(self):\n",
        "        for i in self.pages:\n",
        "            print(i)\n",
        "\n",
        "# Creating books ( Object )\n",
        "book1 = Book()\n",
        "\n",
        "print(\"Adding pages to book\")\n",
        "book1.add(\"page1\")\n",
        "book1.add(\"page2\")\n",
        "book1.add(\"page3\")\n",
        "print(\"Pages got added.\")\n",
        "\n",
        "print()\n",
        "print(\"Displaying pages\")\n",
        "book1.show()\n",
        "print()"
      ],
      "metadata": {
        "id": "LBGjczcLzpmJ"
      },
      "execution_count": null,
      "outputs": []
    },
    {
      "cell_type": "markdown",
      "source": [
        "Yash created a class square ( shape ) to create squares of different dimensions. Also, he developed methods to get the area and perimeter of the squares. Now he wants to develop a similar class for rectangle ( shape ) as well. Also, he wants to add methods to change the dimensions of the rectangle. Help Yash in creating the class rectangle.\n",
        "Answer'''\n",
        "\n"
      ],
      "metadata": {
        "id": "MwWIc7394W4y"
      }
    },
    {
      "cell_type": "code",
      "source": [
        "# Creating a class rectangle\n",
        "class Rectangle :\n",
        "    def __init__(self , length , breadth):\n",
        "        self.length = length\n",
        "        self.breadth = breadth\n",
        "\n",
        "    def getArea(self):\n",
        "        area = self.length * self.breadth\n",
        "        return area\n",
        "\n",
        "    def getPerimeter(self):\n",
        "        perimeter = 2 * ( self.length + self.breadth )\n",
        "        return perimeter\n",
        "\n",
        "    def setLength(self):\n",
        "        newLength = int(input(\"Enter new length :\"))\n",
        "        self.length = newLength\n",
        "        print(\"Length of the rectangle changed to :\" , newLength)\n",
        "\n",
        "    def setBreadth(self):\n",
        "        newBreadth = int(input(\"Enter new width for rectangle :\"))\n",
        "        self.breadth = newBreadth\n",
        "        print(\"Breadth of the rectangle set to :\" , newBreadth)\n",
        "\n",
        "# Creating first rectangle ( object )\n",
        "\n",
        "\n",
        "rectangle1 = Rectangle(20 , 5)\n",
        "\n",
        "area = rectangle1.getArea()\n",
        "print(\"Area of rectangle :\" , area)\n",
        "\n",
        "perimeter = rectangle1.getPerimeter()\n",
        "print(\"Perimeter of rectangle :\" , perimeter)\n",
        "\n",
        "print(\"--------------------\")\n",
        "\n",
        "length = rectangle1.setLength()\n",
        "breadth = rectangle1.setBreadth()\n",
        "\n",
        "area = rectangle1.getArea()\n",
        "print(\"Area of rectangle :\" , area)\n",
        "\n",
        "perimeter = rectangle1.getPerimeter()\n",
        "print(\"Perimeter of rectangle :\" , perimeter)"
      ],
      "metadata": {
        "id": "svtbg4pl4br4"
      },
      "execution_count": null,
      "outputs": []
    },
    {
      "cell_type": "markdown",
      "source": [
        "## **OOPS 2**"
      ],
      "metadata": {
        "id": "xmCGANxk7wOw"
      }
    },
    {
      "cell_type": "markdown",
      "source": [
        "'''Yash had created a class rectangle and methods to get the area and perimeter of the rectangle. He did the same thing for square as well. Write a python program to show Yash how he can use the rectangle class to create the class square with the help of inheritance.\n",
        "Hint: Square is a special case of a rectangle\n",
        "Answer'''\n",
        "\n"
      ],
      "metadata": {
        "id": "ZEqqjyg77xUr"
      }
    },
    {
      "cell_type": "code",
      "source": [
        "# Creating a class rectangle\n",
        "class Rectangle:\n",
        "  def __init__(self, length, breadth):\n",
        "    self.length = length\n",
        "    self.breadth = breadth\n",
        "\n",
        "  def getArea(self):\n",
        "    area = self.length * self.breadth\n",
        "    return area\n",
        "\n",
        "  def getPerimeter(self):\n",
        "    perimeter = 2 * (self.length + self.breadth)\n",
        "    return perimeter\n",
        "\n",
        "\n",
        "# creating class square | Inheritance\n",
        "class Square(Rectangle):\n",
        "  def __init__(self, side):\n",
        "    self.length = side\n",
        "    self.breadth = side\n",
        "\n",
        "\n",
        "# Creating first square ( object )\n",
        "square1 = Square(34)\n",
        "\n",
        "area = square1.getArea()\n",
        "print()\n",
        "print(\"Area of square:\", area)\n",
        "perimeter = square1.getPerimeter()\n",
        "print(\"Perimeter of square:\", perimeter)\n",
        "print()\n",
        "\n",
        "# Creating first rectangle ( object )\n",
        "\n",
        "rectangle1 = Rectangle(20, 5)\n",
        "\n",
        "area = rectangle1.getArea()\n",
        "print(\"Area of rectangle :\", area)\n",
        "\n",
        "perimeter = rectangle1.getPerimeter()\n",
        "print(\"Perimeter of rectangle :\", perimeter)"
      ],
      "metadata": {
        "id": "E_ILQu_B72yQ"
      },
      "execution_count": null,
      "outputs": []
    },
    {
      "cell_type": "markdown",
      "source": [
        "'''Yash now learned how he could use inheritance to create a square class with the help of the existing rectangle class. Now with the help of method overriding, he wants to change the side of the squares as well. He just need to redefine the method setLength() and setBreadth()\n"
      ],
      "metadata": {
        "id": "9-rEsKm5-G0Y"
      }
    },
    {
      "cell_type": "code",
      "source": [],
      "metadata": {
        "id": "zs6In4fF-Jdn"
      },
      "execution_count": null,
      "outputs": []
    },
    {
      "cell_type": "code",
      "source": [
        "# Creating a class rectangle'''\n",
        "\n",
        "class Rectangle:\n",
        "  def __init__(self, length, breadth):\n",
        "    self.length = length\n",
        "    self.breadth = breadth\n",
        "\n",
        "  def getArea(self):\n",
        "    area = self.length * self.breadth\n",
        "    return area\n",
        "\n",
        "  def getPerimeter(self):\n",
        "    perimeter = 2 * (self.length + self.breadth)\n",
        "    return perimeter\n",
        "\n",
        "  def setLength(self):\n",
        "    newLength = int(input(\"Enter new length :\"))\n",
        "    self.length = newLength\n",
        "    print(\"Length of the rectangle changed to :\", newLength)\n",
        "\n",
        "  def setBreadth(self):\n",
        "    newBreadth = int(input(\"Enter new width for rectangle :\"))\n",
        "    self.breadth = newBreadth\n",
        "    print(\"Breadth of the rectangle set to :\", newBreadth)\n",
        "\n",
        "# creating class square | Inheritance\n",
        "class Square(Rectangle):\n",
        "  def __init__(self, side):\n",
        "    self.length = side\n",
        "    self.breadth = side\n",
        "\n",
        "  def setLength(self):\n",
        "    newLength = int(input(\"Enter new side :\"))\n",
        "    self.length = newLength\n",
        "    self.breadth = newLength\n",
        "    print(\"Side of the rectangle changed to :\", newLength)\n",
        "\n",
        "  def setBreadth(self):\n",
        "    print(\"Use setLength() method to change the side\")\n",
        "    pass\n",
        "\n",
        "# Creating first square ( object )\n",
        "square1 = Square(34)\n",
        "area = square1.getArea()\n",
        "print()\n",
        "print(\"Area of square:\", area)\n",
        "perimeter = square1.getPerimeter()\n",
        "print(\"Perimeter of square:\", perimeter)\n",
        "print()\n",
        "\n",
        "# Changing the side\n",
        "square1.setLength()\n",
        "\n",
        "print(\"After changing the side\")\n",
        "print()\n",
        "\n",
        "area = square1.getArea()\n",
        "print(\"Area of square :\", area)\n",
        "perimeter = square1.getPerimeter()\n",
        "print(\"Perimeter of square :\", perimeter)"
      ],
      "metadata": {
        "id": "gmHnZy8j-KTO"
      },
      "execution_count": null,
      "outputs": []
    },
    {
      "cell_type": "markdown",
      "source": [
        "Homework questions\n",
        "Nidhi is trying to understand how the phone gets updated with new features with all the old features already available in the new phone. Write a program to explain this with the help of inheritance and method overriding.\n",
        "Hint: Create class Nokia1, then create class Nokia2 and inherit all the methods from Nokia1 to Nokia2. Also, modify the required methods in Nokia2 and add a few additional methods as well. In the same way, you can create Nokia3 and Nokia4 as well.\n"
      ],
      "metadata": {
        "id": "jtgKILiOAJBA"
      }
    },
    {
      "cell_type": "code",
      "source": [
        "# creating Nokia1 class'''\n",
        "\n",
        "class Nokia1:\n",
        "  def __init__(self, model, price, ram, rom, camera):\n",
        "    self.model = model\n",
        "    self.price = price\n",
        "    self.ram = ram\n",
        "    self.rom = rom\n",
        "    self.camera = camera\n",
        "\n",
        "  def switchOn(self):\n",
        "    print(\"Turning on phone ...\")\n",
        "\n",
        "  def switchOff(self):\n",
        "    print(\"Turning off phone ...\")\n",
        "\n",
        "  def call(self):\n",
        "    print(\"Calling ...\")\n",
        "\n",
        "# creating Nokia2 class - Higher version\n",
        "class Nokia2(Nokia1):\n",
        "  # camera introduced in Nokia2 phones\n",
        "  def takePicture(self):\n",
        "    print(\"Clicking image ...\")\n",
        "\n",
        "  def recordVideo(self):\n",
        "    print(\"Recording video ...\")\n",
        "\n",
        "  # fm radio introduced in Nokia2 phones\n",
        "  def playFm(self):\n",
        "    print(\"Playing fm\")\n",
        "\n",
        "# creating Nokia3 class - Higher version | more features than Nokia2\n",
        "class Nokia3(Nokia2):\n",
        "  # hd camera introduced in Nokia3 phones\n",
        "  def takePicture(self):\n",
        "    print(\"Clicking hd image ...\")\n",
        "\n",
        "  def recordVideo(self):\n",
        "    print(\"Recording hd video ...\")\n",
        "\n",
        "  # front camera introduced in Nokia3 phones\n",
        "  def videoCall(self):\n",
        "    print(\"Video calling ...\")\n",
        "\n",
        "# Main_Program\n",
        "# creating nokia1 phone\n",
        "print(\"Nokia 1:\")\n",
        "phone1 = Nokia1(515, 1000, 0.2, 1, \"Nill\")\n",
        "phone1.switchOn()\n",
        "phone1.switchOff()\n",
        "phone1.call()\n",
        "print(\"\")\n",
        "\n",
        "# creating nokia2 phone\n",
        "print(\"Nokia 2:\")\n",
        "phone2 = Nokia2(\"Lumia 928\", 2500, 0.512, 2, \"VGA\")\n",
        "phone2.switchOn()\n",
        "phone2.switchOff()\n",
        "phone2.call()\n",
        "phone2.takePicture()\n",
        "phone2.recordVideo()\n",
        "phone2.playFm()\n",
        "print(\"\")\n",
        "\n",
        "# crating nokia3 phone\n",
        "print(\"Nokia 3:\")\n",
        "phone3 = Nokia3(\"Asha 210\", 4800, 1, 8, \"12 hd\")\n",
        "phone3.switchOn()\n",
        "phone3.switchOff()\n",
        "phone3.call()\n",
        "phone3.takePicture()\n",
        "phone3.recordVideo()\n",
        "phone3.playFm()\n",
        "phone3.videoCall()\n",
        "\n",
        "# The end"
      ],
      "metadata": {
        "id": "GYHvIH7CAMHv"
      },
      "execution_count": null,
      "outputs": []
    }
  ]
}